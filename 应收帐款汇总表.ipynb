{
 "cells": [
  {
   "cell_type": "code",
   "execution_count": null,
   "metadata": {},
   "outputs": [],
   "source": [
    "import numpy as np\n",
    "import pandas as pd\n",
    "import xlrd\n",
    "import openpyxl\n",
    "\n",
    "import os\n",
    "folder_name = '应收帐款汇总表'\n",
    "if not os.path.exists(folder_name):\n",
    "    os.makedirs(folder_name)\n",
    "\n",
    "import sys\n",
    "month=' ('+str(sys.argv[1])+'月)'\n",
    "    \n",
    "file_name = '应收帐款汇总表'\n",
    "input_filename = file_name +'.xls'\n",
    "output_filename = folder_name + '/'+file_name+'_本期增加.xlsx'\n",
    "\n",
    "df = pd.read_excel(input_filename, sheet_name =0)\n",
    "df.columns.values"
   ]
  },
  {
   "cell_type": "code",
   "execution_count": null,
   "metadata": {},
   "outputs": [],
   "source": [
    "names = df.loc[0]\n",
    "print(names)\n",
    "print(names[names == '名称'].index)\n",
    "print(names[names == '本期增加'].index)"
   ]
  },
  {
   "cell_type": "code",
   "execution_count": null,
   "metadata": {},
   "outputs": [],
   "source": [
    "df.columns = df.iloc[0,:]\n",
    "print(df.columns.values)\n",
    "\n",
    "df2 = df[ df['本期增加'] != 0]\n",
    "df2 = df2[ ['名称','本期增加'] ]\n",
    "df2.head()"
   ]
  },
  {
   "cell_type": "code",
   "execution_count": null,
   "metadata": {},
   "outputs": [],
   "source": [
    "df2.set_index('名称',inplace=True)\n",
    "df2.reset_index(inplace=True)\n",
    "#df2.set_value(df2.shape[0]-1, '名称', '总计')\n",
    "df2.iat[df2.shape[0]-1,0] ='总计'\n",
    "df2.drop([0],axis=0,inplace=True)\n",
    "df2.index.names=['序号']\n"
   ]
  },
  {
   "cell_type": "code",
   "execution_count": null,
   "metadata": {},
   "outputs": [],
   "source": [
    "df2.head()"
   ]
  },
  {
   "cell_type": "code",
   "execution_count": null,
   "metadata": {},
   "outputs": [],
   "source": [
    "df2.tail()"
   ]
  },
  {
   "cell_type": "code",
   "execution_count": null,
   "metadata": {},
   "outputs": [],
   "source": [
    "def handle_worksheet_format(writer, group, title):\n",
    "    # handle the spreadsheet format\n",
    "    workbook = writer.book\n",
    "    worksheet = writer.sheets['sheet1']      \n",
    "    # set data format\n",
    "    for idx, col in enumerate(group):  # loop through all columns\n",
    "        series = group[col]\n",
    "        if isinstance(series.iloc[0],str): char_ratio = 2 \n",
    "        else: char_ratio = 1 \n",
    "        max_len = max((\n",
    "                        series.astype(str).map(len).max() * char_ratio ,  # len of largest item\n",
    "                        len( str(series.name) * 2)  # len of column name/header\n",
    "                    )) + 2  # adding a little extra space\n",
    "\n",
    "        data_fmt = workbook.add_format({'num_format': '0.00',\n",
    "                                        'align': 'right'})    \n",
    "        worksheet.set_column(idx+1, idx+1, max_len, data_fmt)  # set column width\n",
    "\n",
    "    # set title \n",
    "    header_format = workbook.add_format({'bold': True,\n",
    "                                     'text_wrap': True,\n",
    "                                     'align': 'center',\n",
    "                                     'valign': 'vcenter',\n",
    "                                     'fg_color': '#D7E4BC', \n",
    "                                     'border': 1})      \n",
    "    worksheet_cols = df2.shape[1]\n",
    "    range_str = 'A1:'+chr(ord('A')+worksheet_cols)+'1'\n",
    "    worksheet.merge_range(range_str,title,header_format)     "
   ]
  },
  {
   "cell_type": "code",
   "execution_count": null,
   "metadata": {},
   "outputs": [],
   "source": [
    "writer = pd.ExcelWriter(output_filename) #creates instance of an excel workboo\n",
    "df2.to_excel(writer,startrow = 1, sheet_name= 'sheet1') #creates workbook\n",
    "\n",
    "title = '应收账款汇总'+month\n",
    "handle_worksheet_format(writer, df2, title)\n",
    "\n",
    "writer.save() #saves workbook to file in python file directory\n",
    "writer.close()"
   ]
  },
  {
   "cell_type": "code",
   "execution_count": null,
   "metadata": {},
   "outputs": [],
   "source": [
    "print('success')"
   ]
  }
 ],
 "metadata": {
  "kernelspec": {
   "display_name": "Python 3",
   "language": "python",
   "name": "python3"
  },
  "language_info": {
   "codemirror_mode": {
    "name": "ipython",
    "version": 3
   },
   "file_extension": ".py",
   "mimetype": "text/x-python",
   "name": "python",
   "nbconvert_exporter": "python",
   "pygments_lexer": "ipython3",
   "version": "3.6.7"
  }
 },
 "nbformat": 4,
 "nbformat_minor": 2
}

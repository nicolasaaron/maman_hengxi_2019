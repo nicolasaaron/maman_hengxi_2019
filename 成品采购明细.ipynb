{
 "cells": [
  {
   "cell_type": "code",
   "execution_count": 1,
   "metadata": {
    "scrolled": true
   },
   "outputs": [
    {
     "data": {
      "text/plain": [
       "array(['属性', 'Unnamed: 1', 'Unnamed: 2', 'Unnamed: 3', 'Unnamed: 4',\n",
       "       'Unnamed: 5', 'Unnamed: 6', 'Unnamed: 7', 'Unnamed: 8',\n",
       "       'Unnamed: 9', 'Unnamed: 10', 'Unnamed: 11', 'Unnamed: 12',\n",
       "       'Unnamed: 13', 'Unnamed: 14', 'Unnamed: 15', 'Unnamed: 16',\n",
       "       'Unnamed: 17', '入库统计', 'Unnamed: 19', 'Unnamed: 20', 'Unnamed: 21',\n",
       "       'Unnamed: 22', 'Unnamed: 23', 'Unnamed: 24', 'Unnamed: 25',\n",
       "       'Unnamed: 26', 'Unnamed: 27', 'Unnamed: 28', 'Unnamed: 29',\n",
       "       'Unnamed: 30', 'Unnamed: 31', 'Unnamed: 32', '出库统计', 'Unnamed: 34'],\n",
       "      dtype=object)"
      ]
     },
     "execution_count": 1,
     "metadata": {},
     "output_type": "execute_result"
    }
   ],
   "source": [
    "import numpy as np\n",
    "import pandas as pd\n",
    "import xlrd\n",
    "import openpyxl\n",
    "\n",
    "import os\n",
    "file_name = '成品采购明细'\n",
    "folder_name = '成品采购明细'\n",
    "\n",
    "import sys\n",
    "month=' ('+str(sys.argv[1])+'月)'\n",
    "#month=' (8月)'\n",
    "\n",
    "if not os.path.exists(folder_name):\n",
    "    os.makedirs(folder_name)\n",
    "\n",
    "input_filename = file_name +'.xls'\n",
    "output_filename = folder_name + '/'+ file_name+ '_添加类别.xlsx'\n",
    "\n",
    "df = pd.read_excel(input_filename, sheet_name = 0)\n",
    "df.columns.values"
   ]
  },
  {
   "cell_type": "code",
   "execution_count": 2,
   "metadata": {
    "scrolled": true
   },
   "outputs": [
    {
     "name": "stdout",
     "output_type": "stream",
     "text": [
      "['单号', '日期', '业务类型', '供应商', '供应商名', '仓库名称', '备注', '产品编号', '产品名称', '类别名称', '规格', '庄数', '色号', '等级', '品牌', '包装', '单位', '单价', '数量(片)', '金额', '卸车单价', '卸车金额', '运输单价', '运输金额', '折让单价', '折让金额', '加工单价', '加工金额', '纸箱单价', '纸箱数量', '纸箱金额', '装车金额', '总金额', '数量(片)', '金额'] \n",
      "\n",
      "['属性', 'Unnamed: 1', 'Unnamed: 2', 'Unnamed: 3', 'Unnamed: 4', 'Unnamed: 5', 'Unnamed: 6', 'Unnamed: 7', 'Unnamed: 8', 'Unnamed: 9', 'Unnamed: 10', 'Unnamed: 11', 'Unnamed: 12', 'Unnamed: 13', 'Unnamed: 14', 'Unnamed: 15', 'Unnamed: 16', 'Unnamed: 17', '入库统计', 'Unnamed: 19', 'Unnamed: 20', 'Unnamed: 21', 'Unnamed: 22', 'Unnamed: 23', 'Unnamed: 24', 'Unnamed: 25', 'Unnamed: 26', 'Unnamed: 27', 'Unnamed: 28', 'Unnamed: 29', 'Unnamed: 30', 'Unnamed: 31', 'Unnamed: 32', '出库统计', 'Unnamed: 34'] \n",
      "\n",
      "出库统计\n",
      "Unnamed: 34\n"
     ]
    }
   ],
   "source": [
    "# 去除 出库统计 金额\n",
    "tag_names = list(df.iloc[0])\n",
    "print(tag_names,'\\n')\n",
    "col_names = list(df.columns.values)\n",
    "print(col_names,'\\n')\n",
    "\n",
    "#idx_typename = tag_names.index('类别名称')\n",
    "#str_typename = col_names[idx_typename]\n",
    "#print(str_typename,'\\n')\n",
    "\n",
    "idx_delivery = col_names.index('出库统计')\n",
    "str_delivery_1= col_names[idx_delivery]\n",
    "str_delivery_2 = col_names[idx_delivery +1]\n",
    "\n",
    "print(str_delivery_1)\n",
    "print(str_delivery_2)\n",
    "\n",
    "df.drop([str_delivery_1,str_delivery_2], axis=1, inplace = True)\n"
   ]
  },
  {
   "cell_type": "code",
   "execution_count": 3,
   "metadata": {},
   "outputs": [],
   "source": [
    "#names = df.loc[0,:]\n",
    "#print(names[names == '类别名称'].index)\n",
    "#print(names)"
   ]
  },
  {
   "cell_type": "code",
   "execution_count": 4,
   "metadata": {},
   "outputs": [
    {
     "name": "stdout",
     "output_type": "stream",
     "text": [
      "Unnamed: 9 \n",
      "\n",
      "Unnamed: 10 \n",
      "\n",
      "['属性' 'Unnamed: 1' 'Unnamed: 2' 'Unnamed: 3' 'Unnamed: 4' 'Unnamed: 5'\n",
      " 'Unnamed: 6' 'Unnamed: 7' 'Unnamed: 8' 'type_name' 'pd_size'\n",
      " 'Unnamed: 11' 'Unnamed: 12' 'Unnamed: 13' 'Unnamed: 14' 'Unnamed: 15'\n",
      " 'Unnamed: 16' 'Unnamed: 17' '入库统计' 'Unnamed: 19' 'Unnamed: 20'\n",
      " 'Unnamed: 21' 'Unnamed: 22' 'Unnamed: 23' 'Unnamed: 24' 'Unnamed: 25'\n",
      " 'Unnamed: 26' 'Unnamed: 27' 'Unnamed: 28' 'Unnamed: 29' 'Unnamed: 30'\n",
      " 'Unnamed: 31' 'Unnamed: 32'] \n",
      "\n"
     ]
    },
    {
     "data": {
      "text/plain": [
       "array(['属性', 'Unnamed: 1', 'Unnamed: 2', 'Unnamed: 3', 'Unnamed: 4',\n",
       "       'Unnamed: 5', 'Unnamed: 6', 'Unnamed: 7', 'Unnamed: 8', 'type',\n",
       "       'type_name', 'pd_size', 'Unnamed: 11', 'Unnamed: 12',\n",
       "       'Unnamed: 13', 'Unnamed: 14', 'Unnamed: 15', 'Unnamed: 16',\n",
       "       'Unnamed: 17', '入库统计', 'Unnamed: 19', 'Unnamed: 20', 'Unnamed: 21',\n",
       "       'Unnamed: 22', 'Unnamed: 23', 'Unnamed: 24', 'Unnamed: 25',\n",
       "       'Unnamed: 26', 'Unnamed: 27', 'Unnamed: 28', 'Unnamed: 29',\n",
       "       'Unnamed: 30', 'Unnamed: 31', 'Unnamed: 32'], dtype=object)"
      ]
     },
     "execution_count": 4,
     "metadata": {},
     "output_type": "execute_result"
    }
   ],
   "source": [
    "#重命名\"类别名称\"所在列 的标签\n",
    "tag_names = list(df.iloc[0])\n",
    "col_names = list(df.columns.values)\n",
    "\n",
    "idx_typename = tag_names.index('类别名称')\n",
    "str_typename = col_names[idx_typename]\n",
    "print(str_typename,'\\n')\n",
    "\n",
    "df.rename(index=str, columns={str_typename: 'type_name'},inplace=True)\n",
    "df.type_name.unique()\n",
    "\n",
    "str_typesize = col_names[idx_typename + 1]\n",
    "print(str_typesize, '\\n')\n",
    "\n",
    "df.rename(index=str, columns={str_typesize: 'pd_size'}, inplace = True)\n",
    "\n",
    "# 添加一列，命名为 type\n",
    "print(df.columns.values,'\\n')\n",
    "df.insert(idx_typename,'type',df.type_name)\n",
    "df.columns.values"
   ]
  },
  {
   "cell_type": "code",
   "execution_count": 5,
   "metadata": {},
   "outputs": [],
   "source": [
    "df.type[df.type_name == '类别名称'] = '类别'\n",
    "\n",
    "df.type[(df.type_name =='HDF') | (df.type_name == 'HDG') | (df.type_name == 'HDJ') | (df.type == 'HDT') ] = '地砖'\n",
    "df.type[df.type_name =='HTF'] = '地砖'\n",
    "df.type[df.type_name == 'XF'] = '地砖'\n",
    "\n",
    "df.type[(df.type_name =='HNF') | (df.type_name == 'HNG') | (df.type_name == 'HNJ') | (df.type == 'HNT') ] = '瓷片'\n",
    "df.type[df.type_name == 'PG'] = '瓷片'\n",
    "df.type[(df.type_name == 'W') | (df.type_name == 'WM')] = '瓷片'\n",
    "df.type[(df.type_name == 'XG') | (df.type_name == 'XT') | (df.type_name == 'XW')] = '瓷片'\n",
    "\n",
    "df.type[df.type_name =='HM'] = '木纹砖'\n",
    "df.type[df.type_name == 'HW'] = '微晶'\n",
    "df.type[df.type_name == 'HY'] = '全抛釉'\n",
    "df.type[df.type_name == 'H3S'] = '色晶砖'\n",
    "df.type[df.type_name == 'HS'] = '大理石'\n",
    "df.type[df.type_name == 'HNW'] = '镜面砖'\n",
    "df.type[(df.type_name == 'P') | (df.type_name == 'T')] = '通体砖'\n",
    "df.type[df.type_name == '浮雕'] = '浮雕'\n",
    "df.type[df.type_name == '文具'] = '五金仓'\n",
    "df.type[df.type_name == '木托'] = '木托'\n",
    "df.type[df.type_name == '捆砖带'] = '捆砖带'\n",
    "df.type[df.type_name == '换包装'] = '换包装'\n",
    "df.type[df.type_name == '花片'] = '花片'\n",
    "df.type[df.type_name == '欧驰'] = '欧驰'\n",
    "df.type[df.type_name == '腰线'] = '腰线'\n",
    "df.type[df.type_name == '纸箱'] = '纸箱'\n",
    "df.type[df.type_name == '瓷砖胶'] = '5KG'\n",
    "df.type[df.type_name == '圣陶居'] = '圣陶居'\n",
    "df.type[df.type_name == '展美'] = '展美'\n",
    "\n",
    "# update 2019/07/04\n",
    "new_type_list = ['BO1A','BO1B','BO2B',\n",
    "                'FG1A','FG1B','FG2A','FG2B','FO1A','FO1B','F02A','FO2B',\n",
    "                'PG1A','PG1B','PG1C','PG2A','PG2B','PX1A','TO1A','T01B',\n",
    "                'FU2A','GO1A',\n",
    "                'PX1A','FU02A','PG1B','PG2B']\n",
    "\n",
    "for type_name in new_type_list:\n",
    "    df.type[df.type_name == type_name] = '瓷片'\n",
    "    \n",
    "# update 2019/09/02\n",
    "new_type_list = ['PO1A', 'PO1C','TO2B']\n",
    "for type_name in new_type_list:\n",
    "    df.type[df.type_name == type_name] = '瓷片'\n"
   ]
  },
  {
   "cell_type": "code",
   "execution_count": 6,
   "metadata": {},
   "outputs": [
    {
     "name": "stdout",
     "output_type": "stream",
     "text": [
      "type   pd_size \n",
      "其它费用   1             2\n",
      "圣陶居    1200X600      1\n",
      "       800X800      15\n",
      "外购     600X110       2\n",
      "       600X900       1\n",
      "       800X800       2\n",
      "       80X10         1\n",
      "宝柏龙    600X600       5\n",
      "宾立德    150X800       2\n",
      "捆砖带    1            20\n",
      "换包     1             3\n",
      "搬运     1            25\n",
      "木托     1             1\n",
      "       110X110      28\n",
      "澳利     1200X600      2\n",
      "瓷片     300X300      63\n",
      "       300X600     274\n",
      "       400X800      98\n",
      "类别     规格            1\n",
      "纳米瓷砖胶  5KG           1\n",
      "腰线     70X600        2\n",
      "运费     1            17\n",
      "霍      150X600       1\n",
      "Name: type, dtype: int64\n"
     ]
    }
   ],
   "source": [
    "print(df.groupby(['type','pd_size']).type.agg('count'))"
   ]
  },
  {
   "cell_type": "code",
   "execution_count": 7,
   "metadata": {},
   "outputs": [],
   "source": [
    "#modified output\n",
    "output_df = df.copy(deep=True)\n",
    "output_df.columns = output_df.iloc[0,:]\n",
    "output_df.drop(['0'], axis=0,inplace = True)\n",
    "output_df.set_index('单号',inplace = True)\n",
    "\n",
    "writer = pd.ExcelWriter(output_filename) #creates instance of an excel workboo\n",
    "output_df.to_excel(writer,'sheet1') #creates workbook \n",
    "writer.save() #saves workbook to file in python file directory"
   ]
  },
  {
   "cell_type": "code",
   "execution_count": 8,
   "metadata": {},
   "outputs": [
    {
     "data": {
      "text/plain": [
       "['广西恒希建材有限公司',\n",
       " '运输',\n",
       " '佛山市禅城区圣陶居建材有限公司',\n",
       " '霍永坚',\n",
       " '搬运工',\n",
       " '佛山市宾立德陶瓷有限公司',\n",
       " '财富莱陶瓷',\n",
       " '外购',\n",
       " '澳利陶瓷',\n",
       " '澳琪腰线厂B（发外加工）',\n",
       " '壹号工匠瓷砖胶',\n",
       " '']"
      ]
     },
     "execution_count": 8,
     "metadata": {},
     "output_type": "execute_result"
    }
   ],
   "source": [
    "df2 = output_df.copy(deep=True)\n",
    "df2.replace(np.nan,'',regex = True, inplace = True)\n",
    "output_file_list = list(df2['供应商名'].unique())\n",
    "output_file_list"
   ]
  },
  {
   "cell_type": "code",
   "execution_count": 9,
   "metadata": {},
   "outputs": [],
   "source": [
    "def handle_worksheet_format(writer, group, title):\n",
    "    # handle the spreadsheet format\n",
    "    workbook = writer.book\n",
    "    worksheet = writer.sheets['sheet1']\n",
    "\n",
    "    # set data format\n",
    "    for idx, col in enumerate(group):  # loop through all columns\n",
    "        series = group[col]\n",
    "        if isinstance(series[0],str): char_ratio = 2 \n",
    "        else: char_ratio = 1 \n",
    "        max_len = max((\n",
    "                        series.astype(str).map(len).max() * char_ratio ,  # len of largest item\n",
    "                        len( str(series.name) * 2)  # len of column name/header\n",
    "                    )) + 2  # adding a little extra space\n",
    "\n",
    "        data_fmt = workbook.add_format({'num_format': '0.00',\n",
    "                                        'align': 'right'})    \n",
    "        #print(series.name, char_ratio, max_len, series.astype(str).map(len).max() * char_ratio, \n",
    "        #      len( str(series.name) * 2), series[0] )\n",
    "        worksheet.set_column(idx+1, idx+1, max_len, data_fmt)  # set column width\n",
    "\n",
    "    # set index format\n",
    "    series = group.index\n",
    "    max_len_idx = max((\n",
    "            series.astype(str).map(len).max() * 2,  # len of largest item\n",
    "            len(str(series.name)* 2)  # len of column name/header\n",
    "            ))+2\n",
    "    index_fmt = workbook.add_format()\n",
    "    index_fmt.set_align('right')\n",
    "    worksheet.set_column(0,0, max_len_idx, index_fmt)\n",
    "\n",
    "    # set title \n",
    "    header_format = workbook.add_format({'bold': True,\n",
    "                                     'text_wrap': True,\n",
    "                                     'align': 'center',\n",
    "                                     'valign': 'vcenter',\n",
    "                                     'fg_color': '#D7E4BC', \n",
    "                                     'border': 1}) \n",
    "    \n",
    "    worksheet_cols = group.shape[1]\n",
    "    range_str = 'A1:'+chr(ord('A')+worksheet_cols)+'1'\n",
    "    worksheet.merge_range(range_str,title ,header_format)"
   ]
  },
  {
   "cell_type": "code",
   "execution_count": 10,
   "metadata": {},
   "outputs": [],
   "source": [
    "money_type = ['金额','卸车金额','折让金额','加工金额','装车金额','纸箱金额','总金额']\n",
    "combine_money_type= {}"
   ]
  },
  {
   "cell_type": "code",
   "execution_count": 11,
   "metadata": {
    "scrolled": true
   },
   "outputs": [
    {
     "name": "stdout",
     "output_type": "stream",
     "text": [
      "佛山市宾立德陶瓷有限公司\n",
      "佛山市禅城区圣陶居建材有限公司\n",
      "壹号工匠瓷砖胶\n",
      "外购\n",
      "广西恒希建材有限公司\n",
      "搬运工\n",
      "澳利陶瓷\n",
      "澳琪腰线厂B（发外加工）\n",
      "财富莱陶瓷\n",
      "运输\n",
      "霍永坚\n"
     ]
    }
   ],
   "source": [
    "for key, sub_df in df2.groupby('供应商名'):\n",
    "    if key != '':\n",
    "        print(key)\n",
    "        sub_df = sub_df.apply(pd.to_numeric,errors='ignore')\n",
    "        \n",
    "        group = pd.DataFrame()\n",
    "        for money_type_str in money_type:\n",
    "            group = pd.concat( [group, sub_df.groupby('类别')[money_type_str].agg(np.sum)], axis=1,sort=False)\n",
    "        group.sort_values(by='总金额',ascending=False, inplace= True)\n",
    "        #group = pd.concat([ sub_df.groupby('类别')['金额'].agg(np.sum),\n",
    "        #                      sub_df.groupby('类别')['加工金额'].agg(np.sum),\n",
    "        #                      sub_df.groupby('类别')['装车金额'].agg(np.sum),\n",
    "        #                      sub_df.groupby('类别')['纸箱金额'].agg(np.sum),\n",
    "        #                      sub_df.groupby('类别')['总金额'].agg(np.sum)],\n",
    "        #                    axis = 1)\n",
    "        \n",
    "        # combine all \"xx金额\" into \"装车金额\"\n",
    "        for target_type_str, list_str in combine_money_type.items():\n",
    "            for money_type_str in list_str:\n",
    "                if (money_type_str in group) and (money_type_str != target_type_str):\n",
    "                    group[target_type_str] += group[money_type_str]\n",
    "                    group.drop(money_type_str, axis=1, inplace = True)\n",
    "      \n",
    "        \n",
    "        summation = group.sum()\n",
    "        summation.name = '总计'\n",
    "        group = group.append(summation)\n",
    "        \n",
    "        # round up to 2 digits precision\n",
    "        group= group.round(2)\n",
    "        \n",
    "        output_filename = folder_name+'/summary_'+key+'.xlsx'\n",
    "        writer = pd.ExcelWriter(output_filename) #creates instance of an excel workboo\n",
    "        group.to_excel(writer,startrow = 1, sheet_name= 'sheet1') #creates workbook \n",
    "               \n",
    "        # redefine spreadsheet format\n",
    "        title = key + month\n",
    "        handle_worksheet_format(writer, group, title)\n",
    "        \n",
    "        writer.save() #saves workbook to file in python file directory\n",
    "        writer.close()\n",
    "    "
   ]
  },
  {
   "cell_type": "code",
   "execution_count": 12,
   "metadata": {},
   "outputs": [
    {
     "data": {
      "text/html": [
       "<div>\n",
       "<style scoped>\n",
       "    .dataframe tbody tr th:only-of-type {\n",
       "        vertical-align: middle;\n",
       "    }\n",
       "\n",
       "    .dataframe tbody tr th {\n",
       "        vertical-align: top;\n",
       "    }\n",
       "\n",
       "    .dataframe thead th {\n",
       "        text-align: right;\n",
       "    }\n",
       "</style>\n",
       "<table border=\"1\" class=\"dataframe\">\n",
       "  <thead>\n",
       "    <tr style=\"text-align: right;\">\n",
       "      <th></th>\n",
       "      <th>总金额</th>\n",
       "    </tr>\n",
       "    <tr>\n",
       "      <th>供应商名</th>\n",
       "      <th></th>\n",
       "    </tr>\n",
       "  </thead>\n",
       "  <tbody>\n",
       "    <tr>\n",
       "      <th>佛山市宾立德陶瓷有限公司</th>\n",
       "      <td>1346.80</td>\n",
       "    </tr>\n",
       "    <tr>\n",
       "      <th>佛山市禅城区圣陶居建材有限公司</th>\n",
       "      <td>71614.00</td>\n",
       "    </tr>\n",
       "    <tr>\n",
       "      <th>壹号工匠瓷砖胶</th>\n",
       "      <td>840.00</td>\n",
       "    </tr>\n",
       "    <tr>\n",
       "      <th>外购</th>\n",
       "      <td>3277.00</td>\n",
       "    </tr>\n",
       "    <tr>\n",
       "      <th>广西恒希建材有限公司</th>\n",
       "      <td>1553588.23</td>\n",
       "    </tr>\n",
       "    <tr>\n",
       "      <th>搬运工</th>\n",
       "      <td>9832.77</td>\n",
       "    </tr>\n",
       "    <tr>\n",
       "      <th>澳利陶瓷</th>\n",
       "      <td>1332.00</td>\n",
       "    </tr>\n",
       "    <tr>\n",
       "      <th>澳琪腰线厂B（发外加工）</th>\n",
       "      <td>3120.00</td>\n",
       "    </tr>\n",
       "    <tr>\n",
       "      <th>财富莱陶瓷</th>\n",
       "      <td>15614.20</td>\n",
       "    </tr>\n",
       "    <tr>\n",
       "      <th>运输</th>\n",
       "      <td>30119.78</td>\n",
       "    </tr>\n",
       "    <tr>\n",
       "      <th>霍永坚</th>\n",
       "      <td>2251.70</td>\n",
       "    </tr>\n",
       "    <tr>\n",
       "      <th>合计总数</th>\n",
       "      <td>1692936.48</td>\n",
       "    </tr>\n",
       "  </tbody>\n",
       "</table>\n",
       "</div>"
      ],
      "text/plain": [
       "                        总金额\n",
       "供应商名                       \n",
       "佛山市宾立德陶瓷有限公司        1346.80\n",
       "佛山市禅城区圣陶居建材有限公司    71614.00\n",
       "壹号工匠瓷砖胶              840.00\n",
       "外购                  3277.00\n",
       "广西恒希建材有限公司       1553588.23\n",
       "搬运工                 9832.77\n",
       "澳利陶瓷                1332.00\n",
       "澳琪腰线厂B（发外加工）        3120.00\n",
       "财富莱陶瓷              15614.20\n",
       "运输                 30119.78\n",
       "霍永坚                 2251.70\n",
       "合计总数             1692936.48"
      ]
     },
     "execution_count": 12,
     "metadata": {},
     "output_type": "execute_result"
    }
   ],
   "source": [
    "# 入库统计\n",
    "grouped = df2.groupby('供应商名')['总金额'].agg(np.sum).to_frame()\n",
    "grouped.drop([''], inplace = True)\n",
    "grouped.loc[grouped.shape[0]] = grouped.sum()\n",
    "grouped.rename(index = {grouped.shape[0]-1: '合计总数'}, inplace = True)\n",
    "\n",
    "# round up to precision with 2 digits\n",
    "grouped = grouped.round(2)\n",
    "\n",
    "output_filename = folder_name+'/统计入库_供应商_总金额.xlsx'\n",
    "writer = pd.ExcelWriter(output_filename) #creates instance of an excel workboo\n",
    "grouped.to_excel(writer,'sheet1') #creates workbook \n",
    "\n",
    "# set data format\n",
    "title = '入库统计总金额'+month\n",
    "handle_worksheet_format(writer, grouped, title)\n",
    "           \n",
    "writer.save() #saves workbook to file in python file directory\n",
    "writer.close()\n",
    "grouped"
   ]
  },
  {
   "cell_type": "code",
   "execution_count": 13,
   "metadata": {},
   "outputs": [
    {
     "name": "stdout",
     "output_type": "stream",
     "text": [
      "success\n"
     ]
    }
   ],
   "source": [
    "print('success')"
   ]
  }
 ],
 "metadata": {
  "kernelspec": {
   "display_name": "Python 3",
   "language": "python",
   "name": "python3"
  },
  "language_info": {
   "codemirror_mode": {
    "name": "ipython",
    "version": 3
   },
   "file_extension": ".py",
   "mimetype": "text/x-python",
   "name": "python",
   "nbconvert_exporter": "python",
   "pygments_lexer": "ipython3",
   "version": "3.6.7"
  }
 },
 "nbformat": 4,
 "nbformat_minor": 2
}

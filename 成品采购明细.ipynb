{
 "cells": [
  {
   "cell_type": "code",
   "execution_count": null,
   "metadata": {
    "scrolled": true
   },
   "outputs": [],
   "source": [
    "import numpy as np\n",
    "import pandas as pd\n",
    "import xlrd\n",
    "import openpyxl\n",
    "\n",
    "import os\n",
    "file_name = '成品采购明细'\n",
    "folder_name = '成品采购明细'\n",
    "\n",
    "import sys\n",
    "month=' ('+str(sys.argv[1])+'月)'\n",
    "\n",
    "if not os.path.exists(folder_name):\n",
    "    os.makedirs(folder_name)\n",
    "\n",
    "input_filename = file_name +'.xls'\n",
    "output_filename = folder_name + '/'+ file_name+ '_添加类别.xlsx'\n",
    "\n",
    "df = pd.read_excel(input_filename, sheet_name = 0)\n",
    "df.columns.values"
   ]
  },
  {
   "cell_type": "code",
   "execution_count": null,
   "metadata": {
    "scrolled": true
   },
   "outputs": [],
   "source": [
    "# 去除 出库统计 金额\n",
    "tag_names = list(df.iloc[0])\n",
    "print(tag_names,'\\n')\n",
    "col_names = list(df.columns.values)\n",
    "print(col_names,'\\n')\n",
    "\n",
    "#idx_typename = tag_names.index('类别名称')\n",
    "#str_typename = col_names[idx_typename]\n",
    "#print(str_typename,'\\n')\n",
    "\n",
    "idx_delivery = col_names.index('出库统计')\n",
    "str_delivery_1= col_names[idx_delivery]\n",
    "str_delivery_2 = col_names[idx_delivery +1]\n",
    "\n",
    "print(str_delivery_1)\n",
    "print(str_delivery_2)\n",
    "\n",
    "df.drop([str_delivery_1,str_delivery_2], axis=1, inplace = True)\n"
   ]
  },
  {
   "cell_type": "code",
   "execution_count": null,
   "metadata": {},
   "outputs": [],
   "source": [
    "#names = df.loc[0,:]\n",
    "#print(names[names == '类别名称'].index)\n",
    "#print(names)"
   ]
  },
  {
   "cell_type": "code",
   "execution_count": null,
   "metadata": {},
   "outputs": [],
   "source": [
    "#重命名\"类别名称\"所在列 的标签\n",
    "tag_names = list(df.iloc[0])\n",
    "col_names = list(df.columns.values)\n",
    "\n",
    "idx_typename = tag_names.index('类别名称')\n",
    "str_typename = col_names[idx_typename]\n",
    "print(str_typename,'\\n')\n",
    "\n",
    "df.rename(index=str, columns={str_typename: 'type_name'},inplace=True)\n",
    "df.type_name.unique()\n",
    "\n",
    "str_typesize = col_names[idx_typename + 1]\n",
    "print(str_typesize, '\\n')\n",
    "\n",
    "df.rename(index=str, columns={str_typesize: 'pd_size'}, inplace = True)\n",
    "\n",
    "# 添加一列，命名为 type\n",
    "print(df.columns.values,'\\n')\n",
    "df.insert(idx_typename,'type',df.type_name)\n",
    "df.columns.values"
   ]
  },
  {
   "cell_type": "code",
   "execution_count": null,
   "metadata": {},
   "outputs": [],
   "source": [
    "df.type[df.type_name == '类别名称'] = '类别'\n",
    "\n",
    "df.type[(df.type_name =='HDF') | (df.type_name == 'HDG') | (df.type_name == 'HDJ') | (df.type == 'HDT') ] = '地砖'\n",
    "df.type[df.type_name =='HTF'] = '地砖'\n",
    "df.type[df.type_name == 'XF'] = '地砖'\n",
    "\n",
    "df.type[(df.type_name =='HNF') | (df.type_name == 'HNG') | (df.type_name == 'HNJ') | (df.type == 'HNT') ] = '瓷片'\n",
    "df.type[df.type_name == 'PG'] = '瓷片'\n",
    "df.type[(df.type_name == 'W') | (df.type_name == 'WM')] = '瓷片'\n",
    "df.type[(df.type_name == 'XG') | (df.type_name == 'XT') | (df.type_name == 'XW')] = '瓷片'\n",
    "\n",
    "df.type[df.type_name =='HM'] = '木纹砖'\n",
    "df.type[df.type_name == 'HW'] = '微晶'\n",
    "df.type[df.type_name == 'HY'] = '全抛釉'\n",
    "df.type[df.type_name == 'H3S'] = '色晶砖'\n",
    "df.type[df.type_name == 'HS'] = '大理石'\n",
    "df.type[df.type_name == 'HNW'] = '镜面砖'\n",
    "df.type[(df.type_name == 'P') | (df.type_name == 'T')] = '通体砖'\n",
    "df.type[df.type_name == '浮雕'] = '浮雕'\n",
    "df.type[df.type_name == '文具'] = '五金仓'\n",
    "df.type[df.type_name == '木托'] = '木托'\n",
    "df.type[df.type_name == '捆砖带'] = '捆砖带'\n",
    "df.type[df.type_name == '换包装'] = '换包装'\n",
    "df.type[df.type_name == '花片'] = '花片'\n",
    "df.type[df.type_name == '欧驰'] = '欧驰'\n",
    "df.type[df.type_name == '腰线'] = '腰线'\n",
    "df.type[df.type_name == '纸箱'] = '纸箱'\n",
    "df.type[df.type_name == '瓷砖胶'] = '5KG'\n",
    "df.type[df.type_name == '圣陶居'] = '圣陶居'\n",
    "df.type[df.type_name == '展美'] = '展美'"
   ]
  },
  {
   "cell_type": "code",
   "execution_count": null,
   "metadata": {},
   "outputs": [],
   "source": [
    "print(df.groupby('type').type.agg('count'))"
   ]
  },
  {
   "cell_type": "code",
   "execution_count": null,
   "metadata": {},
   "outputs": [],
   "source": [
    "#modified output\n",
    "output_df = df.copy(deep=True)\n",
    "output_df.columns = output_df.iloc[0,:]\n",
    "output_df.drop(['0'], axis=0,inplace = True)\n",
    "output_df.set_index('单号',inplace = True)\n",
    "\n",
    "writer = pd.ExcelWriter(output_filename) #creates instance of an excel workboo\n",
    "output_df.to_excel(writer,'sheet1') #creates workbook \n",
    "writer.save() #saves workbook to file in python file directory"
   ]
  },
  {
   "cell_type": "code",
   "execution_count": null,
   "metadata": {},
   "outputs": [],
   "source": [
    "df2 = output_df.copy(deep=True)\n",
    "df2.replace(np.nan,'',regex = True, inplace = True)\n",
    "output_file_list = list(df2['供应商名'].unique())\n",
    "output_file_list"
   ]
  },
  {
   "cell_type": "code",
   "execution_count": null,
   "metadata": {},
   "outputs": [],
   "source": [
    "def handle_worksheet_format(writer, group, title):\n",
    "    # handle the spreadsheet format\n",
    "    workbook = writer.book\n",
    "    worksheet = writer.sheets['sheet1']\n",
    "\n",
    "    # set data format\n",
    "    for idx, col in enumerate(group):  # loop through all columns\n",
    "        series = group[col]\n",
    "        if isinstance(series[0],str): char_ratio = 2 \n",
    "        else: char_ratio = 1 \n",
    "        max_len = max((\n",
    "                        series.astype(str).map(len).max() * char_ratio ,  # len of largest item\n",
    "                        len( str(series.name) * 2)  # len of column name/header\n",
    "                    )) + 2  # adding a little extra space\n",
    "\n",
    "        data_fmt = workbook.add_format({'num_format': '0.00',\n",
    "                                        'align': 'right'})    \n",
    "        #print(series.name, char_ratio, max_len, series.astype(str).map(len).max() * char_ratio, \n",
    "        #      len( str(series.name) * 2), series[0] )\n",
    "        worksheet.set_column(idx+1, idx+1, max_len, data_fmt)  # set column width\n",
    "\n",
    "    # set index format\n",
    "    series = group.index\n",
    "    max_len_idx = max((\n",
    "            series.astype(str).map(len).max() * 2,  # len of largest item\n",
    "            len(str(series.name)* 2)  # len of column name/header\n",
    "            ))+2\n",
    "    index_fmt = workbook.add_format()\n",
    "    index_fmt.set_align('right')\n",
    "    worksheet.set_column(0,0, max_len_idx, index_fmt)\n",
    "\n",
    "    # set title \n",
    "    header_format = workbook.add_format({'bold': True,\n",
    "                                     'text_wrap': True,\n",
    "                                     'align': 'center',\n",
    "                                     'valign': 'vcenter',\n",
    "                                     'fg_color': '#D7E4BC', \n",
    "                                     'border': 1}) \n",
    "    \n",
    "    worksheet_cols = group.shape[1]\n",
    "    range_str = 'A1:'+chr(ord('A')+worksheet_cols)+'1'\n",
    "    worksheet.merge_range(range_str,title ,header_format)"
   ]
  },
  {
   "cell_type": "code",
   "execution_count": null,
   "metadata": {
    "scrolled": true
   },
   "outputs": [],
   "source": [
    "\n",
    "for key, sub_df in df2.groupby('供应商名'):\n",
    "    if key != '':\n",
    "        print(key)\n",
    "        sub_df = sub_df.apply(pd.to_numeric,errors='ignore')\n",
    "        group = pd.concat([ sub_df.groupby('类别')['金额'].agg(np.sum),\n",
    "                              sub_df.groupby('类别')['加工金额'].agg(np.sum),\n",
    "                              sub_df.groupby('类别')['装车金额'].agg(np.sum),\n",
    "                              sub_df.groupby('类别')['纸箱金额'].agg(np.sum),\n",
    "                              sub_df.groupby('类别')['总金额'].agg(np.sum)],\n",
    "                            axis = 1)\n",
    "        \n",
    "        summation = group.sum()\n",
    "        summation.name = '总计'\n",
    "        group = group.append(summation)\n",
    "        \n",
    "        # round up to 2 digits precision\n",
    "        group= group.round(2)\n",
    "        \n",
    "        output_filename = folder_name+'/summary_'+key+'.xlsx'\n",
    "        writer = pd.ExcelWriter(output_filename) #creates instance of an excel workboo\n",
    "        group.to_excel(writer,startrow = 1, sheet_name= 'sheet1') #creates workbook \n",
    "               \n",
    "        # redefine spreadsheet format\n",
    "        title = key + month\n",
    "        handle_worksheet_format(writer, group, title)\n",
    "        \n",
    "        writer.save() #saves workbook to file in python file directory\n",
    "        writer.close()\n",
    "    "
   ]
  },
  {
   "cell_type": "code",
   "execution_count": null,
   "metadata": {},
   "outputs": [],
   "source": [
    "# 入库统计\n",
    "grouped = df2.groupby('供应商名')['总金额'].agg(np.sum).to_frame()\n",
    "grouped.drop([''], inplace = True)\n",
    "grouped.loc[grouped.shape[0]] = grouped.sum()\n",
    "grouped.rename(index = {grouped.shape[0]-1: '合计总数'}, inplace = True)\n",
    "\n",
    "# round up to precision with 2 digits\n",
    "grouped = grouped.round(2)\n",
    "\n",
    "output_filename = folder_name+'/统计入库_供应商_总金额.xlsx'\n",
    "writer = pd.ExcelWriter(output_filename) #creates instance of an excel workboo\n",
    "grouped.to_excel(writer,'sheet1') #creates workbook \n",
    "\n",
    "# set data format\n",
    "title = '入库统计总金额'+month\n",
    "handle_worksheet_format(writer, grouped, title)\n",
    "           \n",
    "writer.save() #saves workbook to file in python file directory\n",
    "writer.close()\n",
    "grouped"
   ]
  },
  {
   "cell_type": "code",
   "execution_count": null,
   "metadata": {},
   "outputs": [],
   "source": [
    "print('success')"
   ]
  }
 ],
 "metadata": {
  "kernelspec": {
   "display_name": "Python 3",
   "language": "python",
   "name": "python3"
  },
  "language_info": {
   "codemirror_mode": {
    "name": "ipython",
    "version": 3
   },
   "file_extension": ".py",
   "mimetype": "text/x-python",
   "name": "python",
   "nbconvert_exporter": "python",
   "pygments_lexer": "ipython3",
   "version": "3.6.7"
  }
 },
 "nbformat": 4,
 "nbformat_minor": 2
}
